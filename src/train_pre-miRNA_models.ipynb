{
 "cells": [
  {
   "cell_type": "markdown",
   "metadata": {
    "id": "Yn0GdEE1JpnN"
   },
   "source": [
    "# Training pre-miRNAs classifiers for SARS-CoV-2 genome\n",
    "This notebook has the basic code to train three different machine learning models to find new sarscov2 pre-miRNAs. It can easily run in a stand alone way with [Google Colaboratory](colab.research.google.com), otherwise a python instalation and a GPU are required.\n",
    "\n",
    "More details of these models can be found in:\n",
    "\n",
    "- L. A. Bugnon, C. Yones, D. H. Milone, G. Stegmayer, Deep neural architectures for highly imbalanced data in bioinformatics, IEEE Transactions on Neural Networks and Learning Systems, 2019, https://doi.org/10.1109/TNNLS.2019.2914471\n",
    "- C. Yones, J. Raad, L.A. Bugnon, D.H. Milone, G. Stegmayer, High precision in microRNA prediction: a novel genome-wide approach based on convolutional deep residual networks, bioRxiv 2020.10.23.352179, 2020, https://doi.org/10.1101/2020.10.23.352179\n"
   ]
  },
  {
   "cell_type": "code",
   "execution_count": null,
   "metadata": {
    "id": "ow8u21Z0s-4y"
   },
   "outputs": [],
   "source": [
    "# Run this cell ONLY if you are working from a google colab. This will download \n",
    "# the dataset and set the working directory.\n",
    "import os \n",
    "! git clone https://github.com/sinc-lab/sarscov2-mirna-discovery.git\n",
    "os.chdir(\"sarscov2-mirna-discovery/\")"
   ]
  },
  {
   "cell_type": "code",
   "execution_count": null,
   "metadata": {
    "scrolled": false
   },
   "outputs": [],
   "source": [
    "# If you are running from your PC, make sure that you are placed in the \n",
    "# root of the repository, and you have installed all required packages\n",
    "import os \n",
    "os.chdir(\"../\")\n",
    "print(os.getcwd()) # This should end with \"sarscov2-mirna-discovery\"\n",
    "\n",
    "! pip3 install --user -r src/requirements_pre-miRNA_prediction.txt"
   ]
  },
  {
   "cell_type": "markdown",
   "metadata": {
    "id": "aTHxcZKRWFh9"
   },
   "source": [
    "# Dataset preparation\n",
    "mirBase virus pre-miRNAs are used as positive class, along with non-mirna hairpin-like sequences from the human genome. "
   ]
  },
  {
   "cell_type": "code",
   "execution_count": null,
   "metadata": {
    "id": "8NoYZE_Awnds"
   },
   "outputs": [],
   "source": [
    "import numpy as np\n",
    "import pandas as pd\n",
    "from scipy.stats import zscore  \n",
    "\n",
    "# all the known virus pre-miRNAs are used as positive examples\n",
    "features_virus_mirnas = pd.read_csv('pre-miRNAs_features/pre-miRNAs_virus.csv')\n",
    "\n",
    "# SARS-CoV2 sequences are used to train the deeSOM transductivelly \n",
    "features_unlabeled_hairpins = pd.read_csv('pre-miRNAs_features/sars-cov2_hairpins.csv') # Hairpins from hsa genome\n",
    "\n",
    "labels = np.concatenate((np.ones(len(features_virus_mirnas)), np.zeros(len(features_unlabeled_hairpins))))\n",
    "features = np.concatenate((features_virus_mirnas.drop(columns=[\"sequence_names\"]), \n",
    "                       features_unlabeled_hairpins.drop(columns=[\"sequence_names\"]))).astype(np.float)\n",
    "sequence_names = np.concatenate((features_virus_mirnas.sequence_names, features_unlabeled_hairpins.sequence_names))\n",
    "\n",
    "# Feature normalization\n",
    "features[np.where(np.isnan(features))] = 0\n",
    "features = zscore(features, axis=0)\n",
    "features[np.where(np.isnan(features))] = 0"
   ]
  },
  {
   "cell_type": "markdown",
   "metadata": {
    "id": "NnmT8wQkKBMn"
   },
   "source": [
    "## One-Class SVM (OC-SVM)\n"
   ]
  },
  {
   "cell_type": "code",
   "execution_count": null,
   "metadata": {
    "colab": {
     "base_uri": "https://localhost:8080/"
    },
    "id": "fC_Hmn5NVL5p",
    "outputId": "40094c9b-6086-4024-fb2b-278abb7e1523"
   },
   "outputs": [],
   "source": [
    "from sklearn.svm import OneClassSVM\n",
    "import pickle\n",
    "\n",
    "ocsvm = OneClassSVM(kernel=\"linear\")\n",
    "# Use only the positive class to define the decision frontier\n",
    "ocsvm.fit(features[labels == 1, :]) \n",
    "print(\"Fitting OC-SVM done\")\n",
    "if not os.path.isdir(\"pre-miRNAs_models\"):\n",
    "    os.mkdir(\"pre-miRNAs_models\")\n",
    "pickle.dump(ocsvm, open(\"pre-miRNAs_models/ocsvm.pk\", \"wb\"))"
   ]
  },
  {
   "cell_type": "markdown",
   "metadata": {
    "id": "rMx8lkloa9e9"
   },
   "source": [
    "# Deep Ensemble-Elastic Self-organized maps (deeSOM)\n",
    "You can find more details of the model implementation in the [deeSOM repository](https://github.com/lbugnon/deeSOM)."
   ]
  },
  {
   "cell_type": "code",
   "execution_count": null,
   "metadata": {
    "id": "sKLGbM1_NoYd"
   },
   "outputs": [],
   "source": [
    "!pip3 install deesom \n",
    "from deesom import DeeSOM\n",
    "deesom = DeeSOM(verbosity=True)\n",
    "# Train deepSOM\n",
    "deesom.fit(features, labels)\n",
    "print(\"Fitting deeSOM done\")\n",
    "if not os.path.isdir(\"pre-miRNAs_models\"):\n",
    "    os.mkdir(\"pre-miRNAs_models\")\n",
    "deesom.save_model(\"pre-miRNAs_models/deesom.pk\")"
   ]
  },
  {
   "cell_type": "markdown",
   "metadata": {
    "id": "gGMN4F-OKkK2"
   },
   "source": [
    "# miRNA Deep Neural Network (mirDNN)\n",
    "You can find more details of the model implementation in the [mirDNN repository](https://github.com/cyones/mirDNN)."
   ]
  },
  {
   "cell_type": "code",
   "execution_count": null,
   "metadata": {
    "colab": {
     "base_uri": "https://localhost:8080/"
    },
    "id": "3cNEFGDvKjjb",
    "outputId": "6e1502cd-7973-407e-ddcb-d7e6dd914c5b"
   },
   "outputs": [],
   "source": [
    "# Download extra unlabeled sequences\n",
    "! wget https://sourceforge.net/projects/sourcesinc/files/mirdata/sequences/unlabeled.tar.gz\n",
    "! tar -xvf unlabeled.tar.gz\n",
    "! mv unlabeled/sequences/unlabeled_hairpins.fold sequences/unlabeled_hairpins.fold\n",
    "\n",
    "# Install mirDNN\n",
    "! git clone --recurse-submodules https://github.com/cyones/mirDNN.git\n",
    "! pip install -r mirDNN/requirements.txt\n",
    "\n",
    "import numpy as np\n",
    "import shutil\n",
    "npos = int(np.sum(labels))\n",
    "shutil.rmtree(\"tmp/\", ignore_errors=True)\n",
    "os.mkdir(\"tmp/\")\n",
    "if not os.path.isdir(\"pre-miRNAs_models\"):\n",
    "    os.mkdir(\"pre-miRNAs_models\")\n",
    "\n",
    "# Run train script (-i indicates first unlabeled sequences, \n",
    "# then positive sequences)\n",
    "! python3 mirDNN/mirdnn_fit.py -i sequences/unlabeled_hairpins.fold -i sequences/pre-miRNAs_virus.fold -m pre-miRNAs_models/mirdnn.pmt -l tmp/train.log -d \"cuda\" -s 160\n",
    "\n",
    "print(\"Fitting mirDNN done\")"
   ]
  }
 ],
 "metadata": {
  "accelerator": "GPU",
  "colab": {
   "collapsed_sections": [
    "NnmT8wQkKBMn",
    "rMx8lkloa9e9"
   ],
   "name": "train_pre-miRNA_models.ipynb",
   "provenance": []
  },
  "kernelspec": {
   "display_name": "Python 3",
   "language": "python",
   "name": "python3"
  },
  "language_info": {
   "codemirror_mode": {
    "name": "ipython",
    "version": 3
   },
   "file_extension": ".py",
   "mimetype": "text/x-python",
   "name": "python",
   "nbconvert_exporter": "python",
   "pygments_lexer": "ipython3",
   "version": "3.7.3"
  }
 },
 "nbformat": 4,
 "nbformat_minor": 1
}
